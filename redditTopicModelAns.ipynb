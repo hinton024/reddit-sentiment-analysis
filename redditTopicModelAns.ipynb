{
 "cells": [
  {
   "cell_type": "markdown",
   "metadata": {},
   "source": [
    "## COSC2671 Social Media and Network Analytics\n",
    "### Workshop 6: Topic Models\n",
    "\n",
    "#### Jeffrey Chan, RMIT University, 2023"
   ]
  },
  {
   "cell_type": "markdown",
   "metadata": {},
   "source": [
    "This automatically reloads the client information if there are changes."
   ]
  },
  {
   "cell_type": "code",
   "execution_count": null,
   "metadata": {
    "scrolled": true
   },
   "outputs": [],
   "source": [
    "%load_ext autoreload\n",
    "%autoreload 1\n",
    "%aimport redditClient"
   ]
  },
  {
   "cell_type": "markdown",
   "metadata": {},
   "source": [
    "Some necessary imports."
   ]
  },
  {
   "cell_type": "code",
   "execution_count": null,
   "metadata": {},
   "outputs": [],
   "source": [
    "from redditClient import redditClient\n",
    "import praw"
   ]
  },
  {
   "cell_type": "code",
   "execution_count": null,
   "metadata": {},
   "outputs": [],
   "source": [
    "import string\n",
    "from nltk.tokenize import TweetTokenizer\n",
    "from nltk.corpus import stopwords\n",
    "import nltk\n",
    "nltk.download('stopwords')\n",
    "import numpy as np\n",
    "import math\n",
    "\n",
    "import pyLDAvis\n",
    "import pyLDAvis.lda_model\n",
    "from wordcloud import WordCloud\n",
    "\n",
    "from sklearn.feature_extraction.text import CountVectorizer\n",
    "from sklearn.decomposition import LatentDirichletAllocation\n",
    "\n",
    "import matplotlib.pyplot as plt"
   ]
  },
  {
   "cell_type": "markdown",
   "metadata": {},
   "source": [
    "### Function to perform pre-processing."
   ]
  },
  {
   "cell_type": "code",
   "execution_count": null,
   "metadata": {},
   "outputs": [],
   "source": [
    "def processText(text, tokenizer, stemmer, stopwords):\n",
    "    \"\"\"\n",
    "    Perform tokenisation, normalisation (lower case and stemming) and stopword and twitter keyword removal.\n",
    "\n",
    "    @param text: reddit submission or comment text\n",
    "    @param tokenizer: tokeniser used.\n",
    "    @param stemmer: stemmer used.\n",
    "    @param stopwords: list of stopwords used\n",
    "\n",
    "    @returns: a list of processed tokens\n",
    "    \"\"\"\n",
    "\n",
    "    # covert all to lower case\n",
    "    text = text.lower()\n",
    "    # tokenise\n",
    "    lTokens = tokenizer.tokenize(text)\n",
    "    # strip whitespaces before and after\n",
    "    lTokens = [token.strip() for token in lTokens]\n",
    "    # stem (we use set to remove duplicates)\n",
    "    lStemmedTokens = set([stemmer.stem(tok) for tok in lTokens])\n",
    "\n",
    "\n",
    "    # remove stopwords, digits\n",
    "    return [tok for tok in lStemmedTokens if tok not in stopwords and not tok.isdigit()]"
   ]
  },
  {
   "cell_type": "markdown",
   "metadata": {},
   "source": [
    "Parameters."
   ]
  },
  {
   "cell_type": "code",
   "execution_count": null,
   "metadata": {},
   "outputs": [],
   "source": [
    "# Instead of own timeline, will retrieve the specified user's timeline \n",
    "sSubredditName = 'RMIT'\n",
    "\n",
    "# number of hot submissions to retrieve\n",
    "hotLimit = 100"
   ]
  },
  {
   "cell_type": "markdown",
   "metadata": {},
   "source": [
    "### Retrieving tweets"
   ]
  },
  {
   "cell_type": "code",
   "execution_count": null,
   "metadata": {},
   "outputs": [],
   "source": [
    "# construct Reddit client\n",
    "client = redditClient()"
   ]
  },
  {
   "cell_type": "code",
   "execution_count": null,
   "metadata": {},
   "outputs": [],
   "source": [
    "# tweet to use\n",
    "postTokeniser = nltk.tokenize.TweetTokenizer()\n",
    "# use the punctuation symbols defined in string.punctuation\n",
    "lPunct = list(string.punctuation)\n",
    "# use stopwords from nltk and a few other twitter specific terms like 'rt' (retweet)\n",
    "lStopwords = nltk.corpus.stopwords.words('english') + lPunct + ['via']\n",
    "# we use the popular Porter stemmer\n",
    "postStemmer = nltk.stem.PorterStemmer()\n",
    "\n",
    "\n",
    "\n",
    "# specify which subreddit we are interested in\n",
    "subreddit = client.subreddit(sSubredditName)\n",
    "\n",
    "\n",
    "# this will store the list of posts we read from subreddit\n",
    "lPosts = []\n",
    "\n",
    "# print out the hot submisisons\n",
    "for submission in subreddit.hot(limit=hotLimit):\n",
    "    # print title, but we can print other information as well\n",
    "    submissionTitle = submission.title\n",
    "    # tokenise, filter stopwords and get convert to lower case\n",
    "    lTokens = processText(text=submissionTitle, tokenizer=postTokeniser, stemmer=postStemmer, stopwords=lStopwords)\n",
    "    lPosts.append(' '.join(lTokens))\n"
   ]
  },
  {
   "cell_type": "markdown",
   "metadata": {},
   "source": [
    "### LDA Model"
   ]
  },
  {
   "cell_type": "code",
   "execution_count": null,
   "metadata": {},
   "outputs": [],
   "source": [
    "#\n",
    "# LDA parameters\n",
    "#\n",
    "\n",
    "# number of topics to discover (default = 10)\n",
    "topicNum = 10\n",
    "# maximum number of words to display per topic (default = 10)\n",
    "# Answer to Exercise 1 (change from 10 to 15)\n",
    "wordNumToDisplay = 15\n",
    "# this is the number of features/words to used to describe our documents\n",
    "# please feel free to change to see effect\n",
    "featureNum = 1500"
   ]
  },
  {
   "cell_type": "markdown",
   "metadata": {},
   "source": [
    "Performs counting via CountVectorizer and then apply the LDA model."
   ]
  },
  {
   "cell_type": "code",
   "execution_count": null,
   "metadata": {},
   "outputs": [],
   "source": [
    "#\n",
    "# Count Vectorizer\n",
    "#\n",
    "\n",
    "tfVectorizer = CountVectorizer(max_df=0.95, min_df=2, max_features=featureNum, stop_words='english')\n",
    "tf = tfVectorizer.fit_transform(lPosts)\n",
    "# extract the names of the features (in our case, the words)\n",
    "tfFeatureNames = tfVectorizer.get_feature_names_out()\n",
    "\n",
    "\n",
    "#\n",
    "# LDA MODEL\n",
    "#\n",
    "\n",
    "# Run LDA (see documentation about what the arguments means)\n",
    "ldaModel = LatentDirichletAllocation(n_components =topicNum, max_iter=10, learning_method='online').fit(tf)"
   ]
  },
  {
   "cell_type": "markdown",
   "metadata": {},
   "source": [
    "### Visualising topics"
   ]
  },
  {
   "cell_type": "code",
   "execution_count": null,
   "metadata": {},
   "outputs": [],
   "source": [
    "def display_topics(model, featureNames, numTopWords):\n",
    "    \"\"\"\n",
    "    Prints out the most associated words for each feature.\n",
    "\n",
    "    @param model: lda model.\n",
    "    @param featureNames: list of strings, representing the list of features/words.\n",
    "    @param numTopWords: number of words to print per topic.\n",
    "    \"\"\"\n",
    "\n",
    "    # print out the topic distributions\n",
    "    for topicId, lTopicDist in enumerate(model.components_):\n",
    "        print(\"Topic %d:\" % (topicId))\n",
    "        print(\" \".join([featureNames[i] for i in lTopicDist.argsort()[:-numTopWords - 1:-1]]))"
   ]
  },
  {
   "cell_type": "markdown",
   "metadata": {},
   "source": [
    "Diplays discovered topics."
   ]
  },
  {
   "cell_type": "code",
   "execution_count": null,
   "metadata": {},
   "outputs": [],
   "source": [
    "display_topics(ldaModel, tfFeatureNames, wordNumToDisplay)"
   ]
  },
  {
   "cell_type": "markdown",
   "metadata": {},
   "source": [
    "### pyLDAvis"
   ]
  },
  {
   "cell_type": "code",
   "execution_count": null,
   "metadata": {
    "scrolled": true
   },
   "outputs": [],
   "source": [
    "# TODO: Add the pyLDAvis code here\n",
    "# note if you also implemented the word cloud, that will display first, then once you close that\n",
    "# file, then this will display\n",
    "# Answer to exercise 2\n",
    "panel = pyLDAvis.lda_model.prepare(ldaModel, tf, tfVectorizer, mds='tsne')\n",
    "pyLDAvis.display(panel)"
   ]
  },
  {
   "cell_type": "markdown",
   "metadata": {},
   "source": [
    "### Wordcloud"
   ]
  },
  {
   "cell_type": "code",
   "execution_count": null,
   "metadata": {},
   "outputs": [],
   "source": [
    "def displayWordcloud(model, featureNames):\n",
    "    \"\"\"\n",
    "    Displays the word cloud of the topic distributions, stored in model.\n",
    "\n",
    "    @param model: lda model.\n",
    "    @param featureNames: list of strings, representing the list of features/words.\n",
    "    \"\"\"\n",
    "\n",
    "    # this normalises each row/topic to sum to one\n",
    "    # use this normalisedComponents to display your wordclouds\n",
    "    normalisedComponents = model.components_ / model.components_.sum(axis=1)[:, np.newaxis]\n",
    "\n",
    "    # TODO: complete the implementation\n",
    "    \n",
    "    #\n",
    "    # Answer to Exercises 3 and 4\n",
    "    #\n",
    "    \n",
    "    topicNum = len(model.components_)\n",
    "    # number of wordclouds for each row\n",
    "    plotColNum = 3\n",
    "    # number of wordclouds for each column\n",
    "    plotRowNum = int(math.ceil(topicNum / plotColNum))\n",
    "\n",
    "    for topicId, lTopicDist in enumerate(normalisedComponents):\n",
    "        lWordProb = {featureNames[i] : wordProb for i,wordProb in enumerate(lTopicDist)}\n",
    "        wordcloud = WordCloud(background_color='black')\n",
    "        wordcloud.fit_words(frequencies=lWordProb)\n",
    "        plt.subplot(plotRowNum, plotColNum, topicId+1)\n",
    "        plt.title('Topic %d:' % (topicId+1))\n",
    "        plt.imshow(wordcloud, interpolation='bilinear')\n",
    "        plt.axis(\"off\")\n",
    "\n",
    "    plt.show(block=True)"
   ]
  },
  {
   "cell_type": "code",
   "execution_count": null,
   "metadata": {},
   "outputs": [],
   "source": [
    "# display wordcloud\n",
    "# TODO: go to the function definition and complete its implementation\n",
    "displayWordcloud(ldaModel, tfFeatureNames)"
   ]
  },
  {
   "cell_type": "code",
   "execution_count": null,
   "metadata": {},
   "outputs": [],
   "source": []
  }
 ],
 "metadata": {
  "kernelspec": {
   "display_name": "Python 3 (ipykernel)",
   "language": "python",
   "name": "python3"
  },
  "language_info": {
   "codemirror_mode": {
    "name": "ipython",
    "version": 3
   },
   "file_extension": ".py",
   "mimetype": "text/x-python",
   "name": "python",
   "nbconvert_exporter": "python",
   "pygments_lexer": "ipython3",
   "version": "3.11.3"
  }
 },
 "nbformat": 4,
 "nbformat_minor": 2
}
