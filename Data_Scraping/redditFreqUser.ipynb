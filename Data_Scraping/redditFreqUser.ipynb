{
 "cells": [
  {
   "cell_type": "markdown",
   "metadata": {},
   "source": [
    "# Workshop 3: Data Pre-processing\n",
    "\n",
    "COSC2671 Social Media and Network Analytics\n",
    "\n",
    "Jeffrey Chan, RMIT University, 2023\n"
   ]
  },
  {
   "cell_type": "markdown",
   "metadata": {},
   "source": [
    "This automatically reloads the client information if there are changes."
   ]
  },
  {
   "cell_type": "code",
   "execution_count": 9,
   "metadata": {},
   "outputs": [
    {
     "name": "stdout",
     "output_type": "stream",
     "text": [
      "The autoreload extension is already loaded. To reload it, use:\n",
      "  %reload_ext autoreload\n"
     ]
    }
   ],
   "source": [
    "%load_ext autoreload\n",
    "%autoreload 1\n",
    "%aimport redditClient"
   ]
  },
  {
   "cell_type": "code",
   "execution_count": 10,
   "metadata": {},
   "outputs": [
    {
     "name": "stdout",
     "output_type": "stream",
     "text": [
      "Requirement already satisfied: praw in c:\\users\\hp\\anaconda3\\lib\\site-packages (7.7.1)\n",
      "Requirement already satisfied: prawcore<3,>=2.1 in c:\\users\\hp\\anaconda3\\lib\\site-packages (from praw) (2.4.0)\n",
      "Requirement already satisfied: update-checker>=0.18 in c:\\users\\hp\\anaconda3\\lib\\site-packages (from praw) (0.18.0)\n",
      "Requirement already satisfied: websocket-client>=0.54.0 in c:\\users\\hp\\anaconda3\\lib\\site-packages (from praw) (1.8.0)\n",
      "Requirement already satisfied: requests<3.0,>=2.6.0 in c:\\users\\hp\\anaconda3\\lib\\site-packages (from prawcore<3,>=2.1->praw) (2.32.2)\n",
      "Requirement already satisfied: charset-normalizer<4,>=2 in c:\\users\\hp\\anaconda3\\lib\\site-packages (from requests<3.0,>=2.6.0->prawcore<3,>=2.1->praw) (2.0.4)\n",
      "Requirement already satisfied: idna<4,>=2.5 in c:\\users\\hp\\anaconda3\\lib\\site-packages (from requests<3.0,>=2.6.0->prawcore<3,>=2.1->praw) (3.7)\n",
      "Requirement already satisfied: urllib3<3,>=1.21.1 in c:\\users\\hp\\anaconda3\\lib\\site-packages (from requests<3.0,>=2.6.0->prawcore<3,>=2.1->praw) (2.2.2)\n",
      "Requirement already satisfied: certifi>=2017.4.17 in c:\\users\\hp\\anaconda3\\lib\\site-packages (from requests<3.0,>=2.6.0->prawcore<3,>=2.1->praw) (2024.7.4)\n"
     ]
    }
   ],
   "source": [
    "!pip install praw"
   ]
  },
  {
   "cell_type": "markdown",
   "metadata": {},
   "source": [
    "Some necessary imports."
   ]
  },
  {
   "cell_type": "code",
   "execution_count": 11,
   "metadata": {},
   "outputs": [],
   "source": [
    "from redditClient import redditClient\n",
    "import matplotlib.pyplot as plt\n",
    "import praw\n",
    "from collections import Counter"
   ]
  },
  {
   "cell_type": "markdown",
   "metadata": {},
   "source": [
    "Parameters used throughout this notebook.\n",
    "Usually useful to have these parameters in one cell (and one location) and can edit them as needed."
   ]
  },
  {
   "cell_type": "code",
   "execution_count": 12,
   "metadata": {},
   "outputs": [],
   "source": [
    "# subreddit name we interested in getting the hot submissions\n",
    "sSubredditName = 'rmit'\n",
    "# maximum number of hot submissions\n",
    "hotLimit = 25"
   ]
  },
  {
   "cell_type": "markdown",
   "metadata": {},
   "source": [
    "Construct Reddit client then print our name to test."
   ]
  },
  {
   "cell_type": "code",
   "execution_count": 13,
   "metadata": {},
   "outputs": [],
   "source": [
    "# construct Reddit client\n",
    "client = redditClient()"
   ]
  },
  {
   "cell_type": "markdown",
   "metadata": {},
   "source": [
    "Obtain the users that appear most in the combined hot and top list of submissions."
   ]
  },
  {
   "cell_type": "code",
   "execution_count": 14,
   "metadata": {},
   "outputs": [],
   "source": [
    "# specify which subreddit we are interested in\n",
    "subreddit = client.subreddit(sSubredditName)\n",
    "\n",
    "\n",
    "lHotNames = []\n",
    "lTopNames = []\n",
    "\n",
    "# obtain the hot submissions for this subreddit\n",
    "for submission in subreddit.hot(limit=hotLimit):\n",
    "    # print title, but we can print other information of each submission as well\n",
    "    if submission.author is not None:\n",
    "        lHotNames.append(submission.author.name)\n",
    "    \n",
    "\n",
    "#obtain the top submissions for this subreddit\n",
    "for submission in subreddit.top(limit=retrievedResultLimit):\n",
    "    # print title, but we can print other information of each submission as well\n",
    "    if submission.author is not None:\n",
    "        lTopNames.append(submission.author.name)\n",
    "    "
   ]
  },
  {
   "cell_type": "code",
   "execution_count": 15,
   "metadata": {},
   "outputs": [
    {
     "name": "stdout",
     "output_type": "stream",
     "text": [
      "Counter({'jigglychunks': 2, 'robster0285': 1, 'Exciting_Spell_2135': 1, 'hkmprohd65': 1, 'AggressiveLobster342': 1, 'Witty-Community-1382': 1, 'ValueSea1283': 1, 'EugenesMullet': 1, 'Used_Classroom9351': 1, 'xynners': 1, 'Queasy-Hornet3987': 1, 'jeddxc': 1, 'seawitch7': 1, 'YehNahM8__': 1, 'Imaginary-Badger-18': 1, 'No_Peanut1067': 1, 'Bitter-Doctor-5885': 1, 'Sea_Skill_7785': 1, 'PGT1711': 1, 'Ramen8080': 1, 'bluesaltlamp': 1, 'Time_Wish_3185': 1, 'lUU_247': 1, 'BananaCredits': 1, 'sirenasong15': 1, 'falsified6': 1, 'Educational_Week8766': 1, 'Lazy-Protection3984': 1, 'Pinchiiy48': 1, 'Peanut0010': 1, 'MaxDionyss': 1, 'Diogenes_of_Oenoanda': 1, 'The_Male_Fujoshi': 1, 'RelationshipFuzzy629': 1, 'TARDIS737': 1, 'Ashietson': 1, 'heavenlyangle': 1, 'derpythincow': 1, 'ShineTough6420': 1, 'TheDuck01234': 1, 'Emotional-Hour-8449': 1, 'Ireddittoolate': 1, 'Skotch__': 1, 'eleviiee': 1})\n"
     ]
    }
   ],
   "source": [
    "# combine the lists together\n",
    "lHotNames.extend(lTopNames)\n",
    "# count the number of times each user appears in the combined list\n",
    "hNameCount = Counter(lHotNames)\n",
    "print(hNameCount)"
   ]
  },
  {
   "cell_type": "code",
   "execution_count": null,
   "metadata": {},
   "outputs": [],
   "source": []
  }
 ],
 "metadata": {
  "kernelspec": {
   "display_name": "Python 3 (ipykernel)",
   "language": "python",
   "name": "python3"
  },
  "language_info": {
   "codemirror_mode": {
    "name": "ipython",
    "version": 3
   },
   "file_extension": ".py",
   "mimetype": "text/x-python",
   "name": "python",
   "nbconvert_exporter": "python",
   "pygments_lexer": "ipython3",
   "version": "3.12.4"
  }
 },
 "nbformat": 4,
 "nbformat_minor": 2
}
