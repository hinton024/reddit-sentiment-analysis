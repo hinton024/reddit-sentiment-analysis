{
 "cells": [
  {
   "cell_type": "markdown",
   "metadata": {},
   "source": [
    "# Workshop 3: Data Pre-processing\n",
    "\n",
    "COSC2671 Social Media and Network Analytics\n",
    "\n",
    "Jeffrey Chan, RMIT University, 2023\n"
   ]
  },
  {
   "cell_type": "markdown",
   "metadata": {},
   "source": [
    "This automatically reloads the client information if there are changes."
   ]
  },
  {
   "cell_type": "code",
   "execution_count": 1,
   "metadata": {},
   "outputs": [],
   "source": [
    "%load_ext autoreload\n",
    "%autoreload 1\n",
    "%aimport redditClient"
   ]
  },
  {
   "cell_type": "code",
   "execution_count": 2,
   "metadata": {},
   "outputs": [],
   "source": [
    "# !pip install praw"
   ]
  },
  {
   "cell_type": "markdown",
   "metadata": {},
   "source": [
    "Some necessary imports."
   ]
  },
  {
   "cell_type": "code",
   "execution_count": 3,
   "metadata": {},
   "outputs": [],
   "source": [
    "from redditClient import redditClient\n",
    "import matplotlib.pyplot as plt\n",
    "import praw\n",
    "from collections import Counter"
   ]
  },
  {
   "cell_type": "markdown",
   "metadata": {},
   "source": [
    "Parameters used throughout this notebook.\n",
    "Usually useful to have these parameters in one cell (and one location) and can edit them as needed."
   ]
  },
  {
   "cell_type": "code",
   "execution_count": 4,
   "metadata": {},
   "outputs": [],
   "source": [
    "# subreddit name we interested in getting the hot submissions\n",
    "sSubredditName = 'rmit'\n",
    "# maximum number of hot submissions\n",
    "hotLimit = 25"
   ]
  },
  {
   "cell_type": "markdown",
   "metadata": {},
   "source": [
    "Construct Reddit client then print our name to test."
   ]
  },
  {
   "cell_type": "code",
   "execution_count": 5,
   "metadata": {},
   "outputs": [],
   "source": [
    "# construct Reddit client\n",
    "client = redditClient()"
   ]
  },
  {
   "cell_type": "markdown",
   "metadata": {},
   "source": [
    "Obtain the users that appear most in the combined hot and top list of submissions."
   ]
  },
  {
   "cell_type": "code",
   "execution_count": 7,
   "metadata": {},
   "outputs": [],
   "source": [
    "# specify which subreddit we are interested in\n",
    "subreddit = client.subreddit(sSubredditName)\n",
    "\n",
    "\n",
    "lHotNames = []\n",
    "lTopNames = []\n",
    "\n",
    "# obtain the hot submissions for this subreddit\n",
    "for submission in subreddit.hot(limit=hotLimit):\n",
    "    # print title, but we can print other information of each submission as well\n",
    "    if submission.author is not None:\n",
    "        lHotNames.append(submission.author.name)\n",
    "    \n",
    "\n",
    "#obtain the top submissions for this subreddit\n",
    "for submission in subreddit.top(limit=hotLimit):\n",
    "    # print title, but we can print other information of each submission as well\n",
    "    if submission.author is not None:\n",
    "        lTopNames.append(submission.author.name)\n",
    "    "
   ]
  },
  {
   "cell_type": "code",
   "execution_count": 8,
   "metadata": {},
   "outputs": [
    {
     "name": "stdout",
     "output_type": "stream",
     "text": [
      "Counter({'gwynnasrin': 2, 'Ireddittoolate': 2, 'Own_Pomegranate_1545': 1, 'NiceWing546': 1, 'Old-Team4591': 1, 'Cold_Counter_2550': 1, 'Cold_Secretary_7302': 1, 'h-musicfr': 1, 'SnooGrapes4794': 1, 'Impressive_Talk8287': 1, 'Character_Dot_7403': 1, 'ImSrryJon': 1, 'serialcaterpiller': 1, 'Dizzy_Wolverine_8430': 1, 'Familiar_Interview70': 1, 'Impossible_Style6719': 1, 'Pubdogg': 1, 'pepthefrog05': 1, 'Beneficial_Panda6453': 1, 'chemicalPlasma': 1, 'Slow-Description-385': 1, 'Sp4d3r-6-9': 1, 'Jamandell': 1, 'justjelly7': 1, 'Fit_Environment_9787': 1, 'falsified6': 1, 'Educational_Week8766': 1, 'Pinchiiy48': 1, 'Peanut0010': 1, 'Lazy-Protection3984': 1, 'MaxDionyss': 1, 'Diogenes_of_Oenoanda': 1, 'The_Male_Fujoshi': 1, 'RelationshipFuzzy629': 1, 'PayThat9208': 1, 'TARDIS737': 1, 'Ashietson': 1, 'heavenlyangle': 1, 'derpythincow': 1, 'ShineTough6420': 1, 'TheDuck01234': 1, 'jigglychunks': 1, 'Emotional-Hour-8449': 1, 'Skotch__': 1, 'eleviiee': 1, 'No_Tour_322': 1, 'yashrr_': 1})\n"
     ]
    }
   ],
   "source": [
    "# combine the lists together\n",
    "lHotNames.extend(lTopNames)\n",
    "# count the number of times each user appears in the combined list\n",
    "hNameCount = Counter(lHotNames)\n",
    "print(hNameCount)"
   ]
  },
  {
   "cell_type": "code",
   "execution_count": null,
   "metadata": {},
   "outputs": [],
   "source": []
  }
 ],
 "metadata": {
  "kernelspec": {
   "display_name": "Python 3 (ipykernel)",
   "language": "python",
   "name": "python3"
  },
  "language_info": {
   "codemirror_mode": {
    "name": "ipython",
    "version": 3
   },
   "file_extension": ".py",
   "mimetype": "text/x-python",
   "name": "python",
   "nbconvert_exporter": "python",
   "pygments_lexer": "ipython3",
   "version": "3.8.19"
  }
 },
 "nbformat": 4,
 "nbformat_minor": 2
}
