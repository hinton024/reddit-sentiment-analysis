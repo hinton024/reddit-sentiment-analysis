{
 "cells": [
  {
   "cell_type": "markdown",
   "metadata": {},
   "source": [
    "# Workshop 3: Data Pre-processing¶\n",
    "COSC2671 Social Media and Network Analytics\n",
    "\n",
    "Jeffrey Chan, RMIT University, 2023\n"
   ]
  },
  {
   "cell_type": "markdown",
   "metadata": {},
   "source": [
    "The following function is a helper one, it does tokenisation removing stopwords and stemming."
   ]
  },
  {
   "cell_type": "code",
   "execution_count": 1,
   "metadata": {},
   "outputs": [],
   "source": [
    "def processText(text, tokenizer, stemmer, stopwords):\n",
    "    \"\"\"\n",
    "    Perform tokenisation, normalisation (lower case and stemming) and stopword and twitter keyword removal.\n",
    "\n",
    "    @param text: reddit submission or comment text\n",
    "    @param tokenizer: tokeniser used.\n",
    "    @param stemmer: stemmer used.\n",
    "    @param stopwords: list of stopwords used\n",
    "\n",
    "    @returns: a list of processed tokens\n",
    "    \"\"\"\n",
    "\n",
    "    # covert all to lower case\n",
    "    text = text.lower()\n",
    "    # tokenise\n",
    "    lTokens = tokenizer.tokenize(text)\n",
    "    # strip whitespaces before and after\n",
    "    lTokens = [token.strip() for token in lTokens]\n",
    "    # stem (we use set to remove duplicates)\n",
    "    lStemmedTokens = set([stemmer.stem(tok) for tok in lTokens])\n",
    "\n",
    "\n",
    "    # remove stopwords, digits\n",
    "    return [tok for tok in lStemmedTokens if tok not in stopwords and not tok.isdigit()]"
   ]
  },
  {
   "cell_type": "markdown",
   "metadata": {},
   "source": [
    "The following is the main part of the Notebook.  It setups, loads from the json file and calls processText().  Then it update the count of the terms."
   ]
  },
  {
   "cell_type": "code",
   "execution_count": 2,
   "metadata": {},
   "outputs": [
    {
     "name": "stderr",
     "output_type": "stream",
     "text": [
      "[nltk_data] Downloading package stopwords to\n",
      "[nltk_data]     C:\\Users\\HP\\AppData\\Roaming\\nltk_data...\n",
      "[nltk_data]   Package stopwords is already up-to-date!\n"
     ]
    },
    {
     "name": "stdout",
     "output_type": "stream",
     "text": [
      "’: 8\n",
      "australia: 7\n",
      "australian: 7\n",
      "thi: 5\n",
      "anyon: 4\n",
      "‘: 3\n",
      "whi: 3\n",
      "jobseek: 3\n",
      "still: 3\n",
      "increas: 3\n",
      "ani: 3\n",
      "movi: 2\n",
      "miss: 2\n",
      "cost: 2\n",
      "price: 2\n",
      "live: 2\n",
      "find: 2\n",
      "scott: 2\n",
      "morrison: 2\n",
      "care: 2\n",
      "doe: 2\n",
      "logi: 2\n",
      "wait: 2\n",
      "move: 2\n",
      "—: 2\n",
      "travel: 2\n",
      "forc: 2\n",
      "indigen: 2\n",
      "data: 2\n",
      "nsw: 2\n",
      "report: 2\n",
      "alreadi: 2\n",
      "govern: 2\n",
      "accus: 2\n",
      "rim: 2\n",
      "scenic: 2\n",
      "owner: 2\n",
      "dog: 2\n",
      "stupid: 2\n",
      "threat: 2\n",
      "fortnight: 2\n",
      "beach: 2\n",
      "onc: 2\n",
      "week: 2\n",
      "ga: 2\n",
      "militari: 2\n",
      "us: 2\n",
      "pay: 2\n",
      "last: 2\n",
      "payment: 2\n"
     ]
    }
   ],
   "source": [
    "import sys\n",
    "import json\n",
    "import string\n",
    "from collections import Counter\n",
    "import nltk\n",
    "nltk.download('stopwords')\n",
    "import matplotlib.pyplot as mpl\n",
    "\n",
    "\n",
    "# load json file\n",
    "# note usually we would do some checks, but for clarify's sake we haven't implement that code here\n",
    "fJsonName = 'australiaSubreddit.json'\n",
    "\n",
    "# number of most frequent terms to display\n",
    "freqNum = 50\n",
    "\n",
    "# tweet tokeniser to use\n",
    "tweetTokeniser = nltk.tokenize.TweetTokenizer()\n",
    "# use the punctuation symbols defined in string.punctuation\n",
    "lPunct = list(string.punctuation)\n",
    "# use stopwords from nltk and a few other twitter specific terms like 'rt' (retweet)\n",
    "lStopwords = nltk.corpus.stopwords.words('english') + lPunct + ['via']\n",
    "# we use the popular Porter stemmer\n",
    "tweetStemmer = nltk.stem.PorterStemmer()\n",
    "\n",
    "# our term frequency counter\n",
    "termFreqCounter = Counter()\n",
    "\n",
    "\n",
    "\n",
    "# open json file and process it tweet by tweet\n",
    "with open(fJsonName, 'r') as f:\n",
    "    dSubmissions = json.load(f)\n",
    "    \n",
    "    for submission in dSubmissions['submissions']:\n",
    "        submissionsTitle = submission.get('title', '')\n",
    "        # tokenise, filter stopwords and get convert to lower case\n",
    "        lTokens = processText(text=submissionsTitle, tokenizer=tweetTokeniser, stemmer=tweetStemmer, stopwords=lStopwords)\n",
    "\n",
    "        # update count\n",
    "        termFreqCounter.update(lTokens)\n",
    "\n",
    "# print out most common terms\n",
    "for term, count in termFreqCounter.most_common(freqNum):\n",
    "    print(term + ': ' + str(count))"
   ]
  },
  {
   "cell_type": "code",
   "execution_count": null,
   "metadata": {},
   "outputs": [],
   "source": []
  }
 ],
 "metadata": {
  "kernelspec": {
   "display_name": "Python 3 (ipykernel)",
   "language": "python",
   "name": "python3"
  },
  "language_info": {
   "codemirror_mode": {
    "name": "ipython",
    "version": 3
   },
   "file_extension": ".py",
   "mimetype": "text/x-python",
   "name": "python",
   "nbconvert_exporter": "python",
   "pygments_lexer": "ipython3",
   "version": "3.12.4"
  }
 },
 "nbformat": 4,
 "nbformat_minor": 4
}
