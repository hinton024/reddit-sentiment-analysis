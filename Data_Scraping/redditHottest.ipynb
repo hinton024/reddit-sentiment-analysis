{
 "cells": [
  {
   "cell_type": "markdown",
   "metadata": {},
   "source": [
    "# Workshop 3: Data Pre-processing\n",
    "\n",
    "COSC2671 Social Media and Network Analytics\n",
    "\n",
    "Jeffrey Chan, RMIT University, 2023\n"
   ]
  },
  {
   "cell_type": "markdown",
   "metadata": {},
   "source": [
    "This automatically reloads the client information if there are changes."
   ]
  },
  {
   "cell_type": "code",
   "execution_count": 8,
   "metadata": {},
   "outputs": [
    {
     "name": "stdout",
     "output_type": "stream",
     "text": [
      "The autoreload extension is already loaded. To reload it, use:\n",
      "  %reload_ext autoreload\n"
     ]
    }
   ],
   "source": [
    "%load_ext autoreload\n",
    "%autoreload 1\n",
    "%aimport redditClient"
   ]
  },
  {
   "cell_type": "markdown",
   "metadata": {},
   "source": [
    "Some necessary imports."
   ]
  },
  {
   "cell_type": "code",
   "execution_count": 9,
   "metadata": {},
   "outputs": [],
   "source": [
    "from redditClient import redditClient\n",
    "import praw\n",
    "import json\n",
    "import functools\n",
    "from prawcore.exceptions import TooManyRequests\n",
    "import datetime\n",
    "import time"
   ]
  },
  {
   "cell_type": "markdown",
   "metadata": {},
   "source": [
    "Parameters used throughout this notebook.\n",
    "Usually useful to have these parameters in one cell (and one location) and can edit them as needed."
   ]
  },
  {
   "cell_type": "code",
   "execution_count": 10,
   "metadata": {},
   "outputs": [],
   "source": [
    "# subreddit name we interested in getting the hot submissions\n",
    "sSubredditName = 'NVDA_Stock'\n",
    "# maximum number of hot submissions\n",
    "hotLimit = 5"
   ]
  },
  {
   "cell_type": "markdown",
   "metadata": {},
   "source": [
    "Construct Reddit client then print our name to test."
   ]
  },
  {
   "cell_type": "code",
   "execution_count": 11,
   "metadata": {},
   "outputs": [
    {
     "name": "stdout",
     "output_type": "stream",
     "text": [
      "Comprehensive-End522\n"
     ]
    }
   ],
   "source": [
    "# construct Reddit client\n",
    "client = redditClient()\n",
    "\n",
    "# sanity check, you should see your own username printed out\n",
    "print(client.user.me())"
   ]
  },
  {
   "cell_type": "code",
   "execution_count": 12,
   "metadata": {},
   "outputs": [],
   "source": [
    "@functools.lru_cache(maxsize=None)\n",
    "def reddit_api_response(sSubredditName, hotLimit,start_date, end_date):  \n",
    "    # specify which subreddit we are interested in\n",
    "    subreddit = client.subreddit(sSubredditName)\n",
    "    # Convert dates to timestamps\n",
    "    start_timestamp = int(start_date.timestamp())\n",
    "    end_timestamp = int(end_date.timestamp())\n",
    "    data = []; comments_json = []        \n",
    "    for submission in subreddit.top(limit=None):\n",
    "        try:\n",
    "            submission.comments.replace_more(limit=None) # expand all the comments\n",
    "            if start_timestamp <= submission.created_utc <= end_timestamp:\n",
    "                for comment in submission.comments.list():\n",
    "                    comments=[]\n",
    "                    comment_data={\n",
    "                        \"author\": comment.author.name if comment.author else \"No Author\",\n",
    "                        \"created\": comment.created_utc,\n",
    "                        \"text\": comment.body\n",
    "                    }\n",
    "                    comments.append(comment_data)            \n",
    "                post_data = {\n",
    "                \"title\": submission.title,\n",
    "                \"author\": submission.author.name if submission.author else \"No Author\",\n",
    "                \"score\": submission.score,\n",
    "                \"created\":submission.created_utc\n",
    "                }\n",
    "                data.append(post_data)\n",
    "            # else:\n",
    "            #     break\n",
    "        except TooManyRequests as e:\n",
    "            time.sleep(60)\n",
    "    print(data)\n",
    "    final_data = {\"submissions\":data}\n",
    "    with open(\"nvidia_stock_data.json\", \"w\") as json_file:\n",
    "        json.dump(final_data, json_file)\n",
    "    print(\"Data saved to nvidia_stock_data.json\")\n",
    "    with open(\"nvidia_stock_data_comments.json\", \"w\") as json_file:\n",
    "        json.dump(comments_json, json_file)\n",
    "    print(\"Comments Data saved to nvidia_stock_data_comments.json\")"
   ]
  },
  {
   "cell_type": "code",
   "execution_count": null,
   "metadata": {},
   "outputs": [],
   "source": []
  },
  {
   "cell_type": "code",
   "execution_count": 13,
   "metadata": {},
   "outputs": [
    {
     "name": "stdout",
     "output_type": "stream",
     "text": [
      "[]\n",
      "Data saved to nvidia_stock_data.json\n",
      "Comments Data saved to nvidia_stock_data_comments.json\n"
     ]
    }
   ],
   "source": [
    "start_date = datetime.datetime(2024, 1, 1, 0, 0, 0)  # Year, Month, Day, Hour, Minute, Second\n",
    "end_date = datetime.datetime(2024, 8, 15, 0, 5, 0)\n",
    "reddit_api_response(sSubredditName, hotLimit,start_date, end_date)"
   ]
  },
  {
   "cell_type": "code",
   "execution_count": 14,
   "metadata": {},
   "outputs": [
    {
     "name": "stdout",
     "output_type": "stream",
     "text": [
      "{'remaining': 398.0, 'reset_timestamp': 1723803000.4517484, 'used': 602}\n"
     ]
    }
   ],
   "source": [
    "print(client.auth.limits)"
   ]
  },
  {
   "cell_type": "code",
   "execution_count": 15,
   "metadata": {},
   "outputs": [
    {
     "name": "stdout",
     "output_type": "stream",
     "text": [
      "2024-08-14 14:00:00.157915\n"
     ]
    }
   ],
   "source": [
    "print(datetime.datetime.fromtimestamp(1723608000.1579154))"
   ]
  }
 ],
 "metadata": {
  "kernelspec": {
   "display_name": "Python 3 (ipykernel)",
   "language": "python",
   "name": "python3"
  },
  "language_info": {
   "codemirror_mode": {
    "name": "ipython",
    "version": 3
   },
   "file_extension": ".py",
   "mimetype": "text/x-python",
   "name": "python",
   "nbconvert_exporter": "python",
   "pygments_lexer": "ipython3",
   "version": "3.12.4"
  }
 },
 "nbformat": 4,
 "nbformat_minor": 2
}
