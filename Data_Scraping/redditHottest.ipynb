{
 "cells": [
  {
   "cell_type": "markdown",
   "metadata": {},
   "source": [
    "# Workshop 3: Data Pre-processing\n",
    "\n",
    "COSC2671 Social Media and Network Analytics\n",
    "\n",
    "Jeffrey Chan, RMIT University, 2023\n"
   ]
  },
  {
   "cell_type": "markdown",
   "metadata": {},
   "source": [
    "This automatically reloads the client information if there are changes."
   ]
  },
  {
   "cell_type": "code",
   "execution_count": 2,
   "metadata": {},
   "outputs": [],
   "source": [
    "%load_ext autoreload\n",
    "%autoreload 1\n",
    "%aimport redditClient"
   ]
  },
  {
   "cell_type": "markdown",
   "metadata": {},
   "source": [
    "Some necessary imports."
   ]
  },
  {
   "cell_type": "code",
   "execution_count": 3,
   "metadata": {},
   "outputs": [],
   "source": [
    "from redditClient import redditClient\n",
    "import praw\n",
    "import json\n",
    "import functools\n",
    "import datetime"
   ]
  },
  {
   "cell_type": "markdown",
   "metadata": {},
   "source": [
    "Parameters used throughout this notebook.\n",
    "Usually useful to have these parameters in one cell (and one location) and can edit them as needed."
   ]
  },
  {
   "cell_type": "code",
   "execution_count": 4,
   "metadata": {},
   "outputs": [],
   "source": [
    "# subreddit name we interested in getting the hot submissions\n",
    "sSubredditName = 'NVDA_Stock'\n",
    "# maximum number of hot submissions\n",
    "hotLimit = 5"
   ]
  },
  {
   "cell_type": "markdown",
   "metadata": {},
   "source": [
    "Construct Reddit client then print our name to test."
   ]
  },
  {
   "cell_type": "code",
   "execution_count": 5,
   "metadata": {},
   "outputs": [
    {
     "name": "stdout",
     "output_type": "stream",
     "text": [
      "Comprehensive-End522\n"
     ]
    }
   ],
   "source": [
    "# construct Reddit client\n",
    "client = redditClient()\n",
    "\n",
    "# sanity check, you should see your own username printed out\n",
    "print(client.user.me())"
   ]
  },
  {
   "cell_type": "code",
   "execution_count": 16,
   "metadata": {},
   "outputs": [],
   "source": [
    "# @functools.lru_cache(maxsize=None)\n",
    "def reddit_api_response(sSubredditName, hotLimit,start_date, end_date):  \n",
    "    # specify which subreddit we are interested in\n",
    "    subreddit = client.subreddit(sSubredditName)\n",
    "    # Convert dates to timestamps\n",
    "    start_timestamp = int(start_date.timestamp())\n",
    "    end_timestamp = int(end_date.timestamp())\n",
    "\n",
    "    data = []\n",
    "    # print out the hot submisisons\n",
    "    # subreddit.comments.replace_more(limit=None)\n",
    "    # expand all the comments\n",
    "    for submission in subreddit.top(limit=None):\n",
    "        if start_timestamp <= submission.created_utc <= end_timestamp:\n",
    "            for comment in submission.comments.list(): #only take last 10 comments\n",
    "                comments=[]\n",
    "                comment_data={\n",
    "                    \"author\": comment.author.name if comment.author else \"No Author\",\n",
    "                    \"created\": comment.created_utc,\n",
    "                    \"text\": comment.body\n",
    "                }\n",
    "                comments.append(comment_data)\n",
    "        \n",
    "            # print title, but we can print other information as well\n",
    "            post_data = {\n",
    "            \"title\": submission.title,\n",
    "            \"author\": submission.author.name if submission.author else \"No Author\",\n",
    "            \"score\": submission.score,\n",
    "            \"comments\":comments,\n",
    "            \"created\":submission.created_utc\n",
    "            }\n",
    "            data.append(post_data)\n",
    "        else:\n",
    "            break\n",
    "    print(data)\n",
    "    final_data = {\"submissions\":data}\n",
    "    with open(\"nvidia_stock_data.json\", \"w\") as json_file:\n",
    "        json.dump(final_data, json_file)\n",
    "    print(\"Data saved to nvidia_stock_data.json\")"
   ]
  },
  {
   "cell_type": "code",
   "execution_count": 20,
   "metadata": {},
   "outputs": [
    {
     "name": "stdout",
     "output_type": "stream",
     "text": [
      "[]\n",
      "Data saved to nvidia_stock_data.json\n"
     ]
    }
   ],
   "source": [
    "start_date = datetime.datetime(2024, 8, 11, 0, 0, 0)  # Year, Month, Day, Hour, Minute, Second\n",
    "end_date = datetime.datetime(2024, 8, 12, 0, 59, 0)\n",
    "reddit_api_response(sSubredditName, hotLimit,start_date, end_date)"
   ]
  }
 ],
 "metadata": {
  "kernelspec": {
   "display_name": "Python 3 (ipykernel)",
   "language": "python",
   "name": "python3"
  },
  "language_info": {
   "codemirror_mode": {
    "name": "ipython",
    "version": 3
   },
   "file_extension": ".py",
   "mimetype": "text/x-python",
   "name": "python",
   "nbconvert_exporter": "python",
   "pygments_lexer": "ipython3",
   "version": "3.12.4"
  }
 },
 "nbformat": 4,
 "nbformat_minor": 2
}
